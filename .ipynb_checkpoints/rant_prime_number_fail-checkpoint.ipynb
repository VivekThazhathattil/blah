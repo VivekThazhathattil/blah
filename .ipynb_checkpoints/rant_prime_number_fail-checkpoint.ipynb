{
 "cells": [
  {
   "cell_type": "markdown",
   "id": "02267c0e",
   "metadata": {},
   "source": [
    "##### reminder: This is an idiot's rant. Leave it at that."
   ]
  },
  {
   "cell_type": "markdown",
   "id": "75690be5",
   "metadata": {},
   "source": [
    "So I was thinking about something for the past few days. All the universal constants (dimensional and otherwise) looks ugly. There isn't anything elegant about these numbers. Just ugly ugly numbers. Speed of light in vacuum, universal gravitational constant, pi, Euler's number - all of them looks bad. Was it the plan of the creator of this universe to assign such bullshit random numbers and keep track of them in his/her/its little journal? Obviously not, because that's a dumb thing to do and the guy/entity/whatever isn't dumb as we all know. That means that there is indeed an elegance to these numbers in their original form, but we as humans are the dumb ones (as usual) who are incapable of perceiving it."
   ]
  },
  {
   "cell_type": "markdown",
   "id": "098311da",
   "metadata": {},
   "source": [
    "What is it that we are doing wrong? Maybe we shouldn't be using the Imperial/Metric units in the first place? Maybe we shouldn't be using the decimal system at all! Maybe there is something more to it, that my puny brain can't even think of! But imagine the scenario when we use the right number system and the right units and the right whatever-the-fuck-it-is and we finally get beautiful looking numbers in place of the currently hideous ones! That would be insane!"
   ]
  },
  {
   "cell_type": "markdown",
   "id": "02b4ca67",
   "metadata": {},
   "source": [
    "We are using systems that should have long gone obsolete by now. The only reason we are keeping it is because they are popular. An analogy would be to compare famous pop singers who recycle the same generic shit year after year, month after month, day after day, vs the unpopular ones who actually know how to sing and has a bit of creativity. Most people won't actively venture out to discover and listen to the seemingly hidden but wonderful songs by these unpopular fucks. General public has chosen to run their brain on autopilot - which knows only one thing and that is to follow the herd. I don't exactly know if this is the case, but aren't we using decimal system simply because we have 10 fingers? Imagine that we were three toed creatures. Wouldn't that make us use a senery number system (base 6)? Same goes for 'time' as well. Our ancestors used earth's rotation and revolution and all those fancy constellations and its periodic repetition as means of marking the passage of time, seasons and what not! Does that mean that we should follow it even now? It IS the way to go forward if we didn't bother about anything other than our immediate surroundings, but it is simply not sufficient! Time should get a suite of better units than the hour, min, seconds bullshit."
   ]
  },
  {
   "cell_type": "markdown",
   "id": "d3c89479",
   "metadata": {},
   "source": [
    "Like the lazy idiot that I am, instead of studying or completing my work, I spent the last 2-3 days looking for obscure patterns in number systems. If I wasn't lazy enough, I would have read through some stuff from number theory, but the sheer depth and complexity of the subject repelled me. Instead I watched some math videos on Youtube :) - specifically related to non-dimensional constants and their very interesting properties and connections with each other. I was watching [this](https://www.youtube.com/watch?v=S9oPqBeSsZA) video titled 'The hidden link between Prime Numbers and Euler's Number' and was scribbling some random bullcrap in my notebook when I stumbled upon an interesting shit. I'm pretty sure that I'm not the first loser to observe this and the other losers before me should have come to notice this and went ahead to prove it and squeeze it to extract every bit of life out of it. But I haven't yet tried looking for these ideas in literature because I thought \"Hey, lets see how far I can go with this and eventually misinterpret and feel miserable!\"."
   ]
  },
  {
   "cell_type": "markdown",
   "id": "0c0a3f5f",
   "metadata": {},
   "source": [
    "What is this grandiose thing that I'm about to describe? Now that I think about it, it looks pretty shit. But hey-ho! its interesting (or mildly amusing or why-did-i-waste-my-time-on-this) nevertheless. May be I can learn something out of it?!"
   ]
  },
  {
   "cell_type": "markdown",
   "id": "dda1bd05",
   "metadata": {},
   "source": [
    "So what I was scribbling was the numbers in their base 4 - the quarternary number system. Lets look at a few of those numbers:"
   ]
  },
  {
   "cell_type": "code",
   "execution_count": 27,
   "id": "53d39911",
   "metadata": {
    "scrolled": true
   },
   "outputs": [
    {
     "name": "stdout",
     "output_type": "stream",
     "text": [
      "{0: 0, 1: 1, 2: 2, 3: 3, 4: 10, 5: 11, 6: 12, 7: 13, 8: 20, 9: 21, 10: 22, 11: 23, 12: 30, 13: 31, 14: 32, 15: 33, 16: 100, 17: 101, 18: 102, 19: 103, 20: 110, 21: 111, 22: 112, 23: 113, 24: 120, 25: 121, 26: 122, 27: 123, 28: 130, 29: 131}\n"
     ]
    }
   ],
   "source": [
    "# function for decimal number to base-k number conversion:\n",
    "def base10_to_basek(num, base):\n",
    "    try:\n",
    "        if base < 2 or not isinstance(base, int):\n",
    "            raise ValueError()\n",
    "            return None\n",
    "        if num == 0:\n",
    "            return 0\n",
    "        else:\n",
    "            digs = []\n",
    "            temp = num\n",
    "            while temp > 0:\n",
    "                digs.append(str(temp % base))\n",
    "                temp = temp // base\n",
    "            digs.reverse()\n",
    "            return int( ''.join(digs))\n",
    "    except ValueError:\n",
    "        print(\"Please check your base number and try again!\")\n",
    "# get quarternary numbers for N numbers from 0 to N-1\n",
    "N = 30\n",
    "num_dict = {}\n",
    "for i in range(N):\n",
    "    num_dict[i] = base10_to_basek(i,4)\n",
    "print(num_dict)"
   ]
  },
  {
   "cell_type": "markdown",
   "id": "6028ae49",
   "metadata": {},
   "source": [
    "In this dict, the key is decimal number and the value is corresponding quarternary number. Fairly normal looking numbers. But wait! Take a look at the quarternary numbers corresponding to prime numbers in the decimal system. They're all prime numbers themselves relative to their same symbolic representation in decimal system. For example, take the prime number key 5 in the dict. The corresponding value is 11, which if it were in decimal system is a prime number. Similarly for 11:23, 13:31, 17:101 etc. So basically all the prime numbers in decimal system has equivalent decimal prime representation in the quarternary system. Lets check out first 1000 numbers and see if it holds true everywhere."
   ]
  },
  {
   "cell_type": "code",
   "execution_count": 36,
   "id": "8aeacfbc",
   "metadata": {},
   "outputs": [
    {
     "name": "stdout",
     "output_type": "stream",
     "text": [
      "Prime number mismatch: Decimal:31 Quarternary:133\n",
      "Prime number mismatch: Decimal:41 Quarternary:221\n",
      "Prime number mismatch: Decimal:59 Quarternary:323\n",
      "Prime number mismatch: Decimal:67 Quarternary:1003\n",
      "Prime number mismatch: Decimal:89 Quarternary:1121\n",
      "Prime number mismatch: Decimal:101 Quarternary:1211\n",
      "Prime number mismatch: Decimal:127 Quarternary:1333\n",
      "Prime number mismatch: Decimal:137 Quarternary:2021\n",
      "Prime number mismatch: Decimal:139 Quarternary:2023\n",
      "Prime number mismatch: Decimal:173 Quarternary:2231\n",
      "Prime number mismatch: Decimal:179 Quarternary:2303\n",
      "Prime number mismatch: Decimal:199 Quarternary:3013\n",
      "Prime number mismatch: Decimal:211 Quarternary:3103\n",
      "Prime number mismatch: Decimal:223 Quarternary:3133\n",
      "Prime number mismatch: Decimal:229 Quarternary:3211\n",
      "Prime number mismatch: Decimal:239 Quarternary:3233\n",
      "Prime number mismatch: Decimal:257 Quarternary:10001\n",
      "Prime number mismatch: Decimal:263 Quarternary:10013\n",
      "Prime number mismatch: Decimal:269 Quarternary:10031\n",
      "Prime number mismatch: Decimal:271 Quarternary:10033\n",
      "Prime number mismatch: Decimal:281 Quarternary:10121\n",
      "Prime number mismatch: Decimal:283 Quarternary:10123\n",
      "Prime number mismatch: Decimal:331 Quarternary:11023\n",
      "Prime number mismatch: Decimal:337 Quarternary:11101\n",
      "Prime number mismatch: Decimal:347 Quarternary:11123\n",
      "Prime number mismatch: Decimal:353 Quarternary:11201\n",
      "Prime number mismatch: Decimal:367 Quarternary:11233\n",
      "Prime number mismatch: Decimal:379 Quarternary:11323\n",
      "Prime number mismatch: Decimal:383 Quarternary:11333\n",
      "Prime number mismatch: Decimal:397 Quarternary:12031\n",
      "Prime number mismatch: Decimal:409 Quarternary:12121\n",
      "Prime number mismatch: Decimal:431 Quarternary:12233\n",
      "Prime number mismatch: Decimal:439 Quarternary:12313\n",
      "Prime number mismatch: Decimal:457 Quarternary:13021\n",
      "Prime number mismatch: Decimal:461 Quarternary:13031\n",
      "Prime number mismatch: Decimal:479 Quarternary:13133\n",
      "Prime number mismatch: Decimal:487 Quarternary:13213\n",
      "Prime number mismatch: Decimal:491 Quarternary:13223\n",
      "Prime number mismatch: Decimal:499 Quarternary:13303\n",
      "Prime number mismatch: Decimal:541 Quarternary:20131\n",
      "Prime number mismatch: Decimal:547 Quarternary:20203\n",
      "Prime number mismatch: Decimal:563 Quarternary:20303\n",
      "Prime number mismatch: Decimal:569 Quarternary:20321\n",
      "Prime number mismatch: Decimal:599 Quarternary:21113\n",
      "Prime number mismatch: Decimal:607 Quarternary:21133\n",
      "Prime number mismatch: Decimal:619 Quarternary:21223\n",
      "Prime number mismatch: Decimal:641 Quarternary:22001\n",
      "Prime number mismatch: Decimal:659 Quarternary:22103\n",
      "Prime number mismatch: Decimal:673 Quarternary:22201\n",
      "Prime number mismatch: Decimal:677 Quarternary:22211\n",
      "Prime number mismatch: Decimal:683 Quarternary:22223\n",
      "Prime number mismatch: Decimal:701 Quarternary:22331\n",
      "Prime number mismatch: Decimal:719 Quarternary:23033\n",
      "Prime number mismatch: Decimal:727 Quarternary:23113\n",
      "Prime number mismatch: Decimal:743 Quarternary:23213\n",
      "Prime number mismatch: Decimal:751 Quarternary:23233\n",
      "Prime number mismatch: Decimal:769 Quarternary:30001\n",
      "Prime number mismatch: Decimal:797 Quarternary:30131\n",
      "Prime number mismatch: Decimal:809 Quarternary:30221\n",
      "Prime number mismatch: Decimal:821 Quarternary:30311\n",
      "Prime number mismatch: Decimal:829 Quarternary:30331\n",
      "Prime number mismatch: Decimal:853 Quarternary:31111\n",
      "Prime number mismatch: Decimal:863 Quarternary:31133\n",
      "Prime number mismatch: Decimal:881 Quarternary:31301\n",
      "Prime number mismatch: Decimal:883 Quarternary:31303\n",
      "Prime number mismatch: Decimal:887 Quarternary:31313\n",
      "Prime number mismatch: Decimal:907 Quarternary:32023\n",
      "Prime number mismatch: Decimal:911 Quarternary:32033\n",
      "Prime number mismatch: Decimal:919 Quarternary:32113\n",
      "Prime number mismatch: Decimal:929 Quarternary:32201\n",
      "Prime number mismatch: Decimal:937 Quarternary:32221\n",
      "Prime number mismatch: Decimal:941 Quarternary:32231\n",
      "Prime number mismatch: Decimal:977 Quarternary:33101\n",
      "Prime number mismatch: Decimal:991 Quarternary:33133\n",
      "\n",
      "\n",
      "Matching cases: \n",
      "\n",
      "{2: 2, 3: 3, 5: 11, 7: 13, 11: 23, 13: 31, 17: 101, 19: 103, 23: 113, 29: 131, 37: 211, 43: 223, 47: 233, 53: 311, 61: 331, 71: 1013, 73: 1021, 79: 1033, 83: 1103, 97: 1201, 103: 1213, 107: 1223, 109: 1231, 113: 1301, 131: 2003, 149: 2111, 151: 2113, 157: 2131, 163: 2203, 167: 2213, 181: 2311, 191: 2333, 193: 3001, 197: 3011, 227: 3203, 233: 3221, 241: 3301, 251: 3323, 277: 10111, 293: 10211, 307: 10303, 311: 10313, 313: 10321, 317: 10331, 349: 11131, 359: 11213, 373: 11311, 389: 12011, 401: 12101, 419: 12203, 421: 12211, 433: 12301, 443: 12323, 449: 13001, 463: 13033, 467: 13103, 503: 13313, 509: 13331, 521: 20021, 523: 20023, 557: 20231, 571: 20323, 577: 21001, 587: 21023, 593: 21101, 601: 21121, 613: 21211, 617: 21221, 631: 21313, 643: 22003, 647: 22013, 653: 22031, 661: 22111, 691: 22303, 709: 23011, 733: 23131, 739: 23203, 757: 23311, 761: 23321, 773: 30011, 787: 30103, 811: 30223, 823: 30313, 827: 30323, 839: 31013, 857: 31121, 859: 31123, 877: 31231, 947: 32303, 953: 32321, 967: 33013, 971: 33023, 983: 33113, 997: 33211}\n",
      "\n",
      "\n",
      " Total count = 168\n",
      " Mismatch count = 74\n"
     ]
    }
   ],
   "source": [
    "import math\n",
    "N = 1000\n",
    "nums = {}\n",
    "mismatch_count = 0\n",
    "total_count = 0\n",
    "# I used Sieve of Eratosthenes to get the prime here\n",
    "def is_prime(num):\n",
    "    if num == 2:\n",
    "        return True\n",
    "    if num % 2 == 0 or num <= 1:\n",
    "        return False\n",
    "    sqr = int(math.sqrt(num)) + 1\n",
    "    for divisor in range(3, sqr, 2):\n",
    "        if num % divisor == 0:\n",
    "            return False\n",
    "    return True\n",
    "for n in range(N):\n",
    "    if is_prime(n):\n",
    "        total_count += 1\n",
    "        base4_n = base10_to_basek(n,4)\n",
    "        if not is_prime(base4_n):\n",
    "            print(\"Prime number mismatch: Decimal:\" + str(n) + \" Quarternary:\" + str(base4_n))\n",
    "            mismatch_count += 1\n",
    "        else:\n",
    "            nums[n] = base4_n\n",
    "print(\"\\n\\nMatching cases: \\n\")\n",
    "print(nums)\n",
    "print(\"\\n\\n Total count = \" + str(total_count))\n",
    "print(\" Mismatch count = \" + str(mismatch_count))"
   ]
  },
  {
   "cell_type": "markdown",
   "id": "78bc2e78",
   "metadata": {},
   "source": [
    "Oops! That was a fail I guess. 74/168 prime numbers from 1 to 1000 have failed to have decimal prime representation for their quarternary counterpart. How much is that in percentage?"
   ]
  },
  {
   "cell_type": "code",
   "execution_count": 43,
   "id": "d668b98f",
   "metadata": {},
   "outputs": [
    {
     "name": "stdout",
     "output_type": "stream",
     "text": [
      "Fail percentage = 44.05%\n"
     ]
    }
   ],
   "source": [
    "print(\"Fail percentage = \" + str(round(74/168 * 100, 2)) + \"%\")"
   ]
  },
  {
   "cell_type": "markdown",
   "id": "93b11ead",
   "metadata": {},
   "source": [
    "Hmm, that's awkward. But on the bright side, look at how many numbers have matched correctly! A small majority is still a majority! That's again stupid from me, because I'm fairly certain that this fail percentage will tend to 50% if we took more numbers into consideration. Lets go for N = 10000 and just output the fail percentage alone."
   ]
  },
  {
   "cell_type": "code",
   "execution_count": 49,
   "id": "3acb4d86",
   "metadata": {},
   "outputs": [
    {
     "name": "stdout",
     "output_type": "stream",
     "text": [
      "Fail percentage = 62.65%\n",
      "1229\n"
     ]
    }
   ],
   "source": [
    "N = 10000\n",
    "total_count = 0\n",
    "mismatch_count = 0\n",
    "for n in range(N):\n",
    "    if is_prime(n):\n",
    "        total_count += 1\n",
    "        if not is_prime(base10_to_basek(n, 4)):\n",
    "            mismatch_count += 1\n",
    "print(\"Fail percentage = \" + str(round(mismatch_count/total_count * 100, 2)) + \"%\")"
   ]
  }
 ],
 "metadata": {
  "kernelspec": {
   "display_name": "Python 3 (ipykernel)",
   "language": "python",
   "name": "python3"
  },
  "language_info": {
   "codemirror_mode": {
    "name": "ipython",
    "version": 3
   },
   "file_extension": ".py",
   "mimetype": "text/x-python",
   "name": "python",
   "nbconvert_exporter": "python",
   "pygments_lexer": "ipython3",
   "version": "3.9.6"
  }
 },
 "nbformat": 4,
 "nbformat_minor": 5
}
